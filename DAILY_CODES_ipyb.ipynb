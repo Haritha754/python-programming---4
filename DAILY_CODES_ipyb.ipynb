{
  "nbformat": 4,
  "nbformat_minor": 0,
  "metadata": {
    "colab": {
      "provenance": []
    },
    "kernelspec": {
      "name": "python3",
      "display_name": "Python 3"
    },
    "language_info": {
      "name": "python"
    }
  },
  "cells": [
    {
      "cell_type": "markdown",
      "source": [
        "1 .**Small Large Sum\n",
        "Write a function SmallLargeSum(array) which accepts the array as an argument or\n",
        "parameter, that performs the addition of the second largest element from the\n",
        "even location with the second largest element from an odd location?\n",
        "Rules:\n",
        "All the array elements are unique.\n",
        "If the length of the array is 3 or less than 3, then return 0.\n",
        "If Array is empty then return zero.\n",
        "Sample Test Case 1:\n",
        "Input:\n",
        "6\n",
        "3 2 1 7 5 4\n",
        "Output:\n",
        "7\n",
        "Explanation: The second largest element in the even locations (3, 1, 5) is 3. The\n",
        "second largest element in the odd locations (2, 7, 4) is 4. So the addition of 3 and\n",
        "4 is 7. So the answer is 7.\n",
        "Sample Test Case 2:\n",
        "Input:\n",
        "7\n",
        "4 0 7 9 6 4 2\n",
        "Output:\n",
        "10t**"
      ],
      "metadata": {
        "id": "64yUTpqd6NW6"
      }
    },
    {
      "cell_type": "code",
      "source": [
        "def SmallLargeSum(array):\n",
        "    if len(array) <= 3:\n",
        "        return 0\n",
        "\n",
        "    even_elements = sorted([array[i] for i in range(0, len(array), 2)])\n",
        "    odd_elements = sorted([array[i] for i in range(1, len(array), 2)])\n",
        "\n",
        "    if len(even_elements) < 2 or len(odd_elements) < 2:\n",
        "        return 0\n",
        "\n",
        "    return even_elements[-2] + odd_elements[-2]\n",
        "\n",
        "# Sample Test Case 1\n",
        "array1 = [3, 2, 1, 7, 5, 4]\n",
        "print(SmallLargeSum(array1))  # Output: 7\n",
        "\n",
        "# Sample Test Case 2\n",
        "array2 = [4, 0, 7, 9, 6, 4, 2]\n",
        "print(SmallLargeSum(array2))  # Output: 10"
      ],
      "metadata": {
        "colab": {
          "base_uri": "https://localhost:8080/"
        },
        "id": "MqgYvBM664od",
        "outputId": "034ddf5e-4812-4616-cbde-ff9651e7ba3f"
      },
      "execution_count": 5,
      "outputs": [
        {
          "output_type": "stream",
          "name": "stdout",
          "text": [
            "7\n",
            "10\n"
          ]
        }
      ]
    },
    {
      "cell_type": "markdown",
      "source": [
        "**2 . Check Password\n",
        "Write a function CheckPassword(str) which will accept the string as an\n",
        "argument or parameter and validates the password. It will return 1 if\n",
        "the conditions are satisfied else it’ll return 0?\n",
        "The password is valid if it satisfies the below conditions:\n",
        "It should contain at least 4 characters.\n",
        "At least 1 numeric digit should be present.\n",
        "1 Capital letter should be there.\n",
        "Password should not contain space or slash.\n",
        "The starting character should not be a number.\n",
        "Sample Test Case:\n",
        "Input:\n",
        "bB1_89\n",
        "Output:\n",
        "1**"
      ],
      "metadata": {
        "id": "ms8SQwg87Aq_"
      }
    },
    {
      "cell_type": "code",
      "source": [
        "def CheckPassword(password):\n",
        "    if len(password) < 4:\n",
        "        return 0\n",
        "    if password[0].isdigit():\n",
        "        return 0\n",
        "    if ' ' in password or '/' in password:\n",
        "        return 0\n",
        "\n",
        "    has_digit = False\n",
        "    has_upper"
      ],
      "metadata": {
        "id": "J9uX200z7ktF"
      },
      "execution_count": 6,
      "outputs": []
    },
    {
      "cell_type": "markdown",
      "source": [
        "**3 . Calculate Binary Operations\n",
        "Write a function CalculateBinaryOperations(str) that accepts the string\n",
        "as an argument or parameter. The string should contains the binary\n",
        "numbers with their operators OR, AND, and XOR?\n",
        "A Means the AND Operation.\n",
        "B Means the OR Operation.\n",
        "C Means the XOR Operation.\n",
        "By scanning the given string from left to right you’ve to calculate the\n",
        "string and by taking one operator at a time then return the desired\n",
        "output.\n",
        "Conditions:\n",
        "The priority of the operator is not required.\n",
        "The length of the string is always Odd.\n",
        "If the length of the string is null then return -1.\n",
        "Sample Test Case:\n",
        "Input:\n",
        "1C0C1C1A0B1\n",
        "Output:\n",
        "1**"
      ],
      "metadata": {
        "id": "2z3jLsqq7vWK"
      }
    },
    {
      "cell_type": "code",
      "source": [
        "def are_anagrams(str1, str2):\n",
        "    # Convert both strings to lowercase and sort their characters\n",
        "    sorted_str1 = sorted(str1.lower())\n",
        "    sorted_str2 = sorted(str2.lower())\n",
        "\n",
        "    # Compare the sorted strings\n",
        "    if sorted_str1 == sorted_str2:\n",
        "        return 'yes'\n",
        "    else:\n",
        "        return 'no'\n",
        "\n",
        "# Sample Test Case\n",
        "str1 = \"learn\"\n",
        "str2 = \"simple\"\n",
        "print(are_anagrams(str1, str2))  # Output: no"
      ],
      "metadata": {
        "colab": {
          "base_uri": "https://localhost:8080/"
        },
        "id": "LtswcVU88CRL",
        "outputId": "bad5bc9c-5d18-4ed6-dd17-e547a9da9d91"
      },
      "execution_count": 7,
      "outputs": [
        {
          "output_type": "stream",
          "name": "stdout",
          "text": [
            "no\n"
          ]
        }
      ]
    },
    {
      "cell_type": "markdown",
      "source": [
        "**4. Find Maximum In An Array\n",
        "Write a function FindMaxInArray, which will find the greatest number\n",
        "from an array with its desired index? The greatest number and its\n",
        "desired index should be printed in separate lines.\n",
        "Sample Test Case:\n",
        "Input:\n",
        "10\n",
        "15 78 96 17 20 65 14 36 18 20\n",
        "Output:\n",
        "96\n",
        "2**"
      ],
      "metadata": {
        "id": "6jk7SVjr8MuX"
      }
    },
    {
      "cell_type": "code",
      "source": [
        "def Productsmallpair(sum, arr):\n",
        "    if len(arr) < 2:\n",
        "        return -1\n",
        "    arr.sort()\n",
        "    return arr[0] * arr[1] if arr[0] + arr[1] <= sum else 0\n",
        "\n",
        "# Sample Test Case\n",
        "sum_value = 9\n",
        "arr = [5, 4, 2, 3, 9, 1, 7]\n",
        "print(Productsmallpair(sum_value, arr))  # Output: 2"
      ],
      "metadata": {
        "colab": {
          "base_uri": "https://localhost:8080/"
        },
        "id": "WHVA9GqZ8SCK",
        "outputId": "dfeb6b03-e6c5-4546-e519-d97cdc0e9e48"
      },
      "execution_count": 8,
      "outputs": [
        {
          "output_type": "stream",
          "name": "stdout",
          "text": [
            "2\n"
          ]
        }
      ]
    },
    {
      "cell_type": "markdown",
      "source": [
        "**5. Operation Choices\n",
        "Write a function OperationChoices(c, a, b) which will accept three\n",
        "integers as an argument, and the function will return:\n",
        "(a + b) if the value of c=1.\n",
        "(a – b) if the value of c=2.\n",
        "(a * b) if the value of c=3.\n",
        "(a / b) if the value of c=4.\n",
        "Sample Test Case:\n",
        "Input:\n",
        "2\n",
        "15\n",
        "20\n",
        "Output:\n",
        "5**"
      ],
      "metadata": {
        "id": "lR64-lEW2BlM"
      }
    },
    {
      "cell_type": "code",
      "source": [
        "def OperationChoices(c, a, b):\n",
        "    if c == 1:\n",
        "        return a + b\n",
        "    elif c == 2:\n",
        "        return a - b\n",
        "    elif c == 3:\n",
        "        return a * b\n",
        "    elif c == 4:\n",
        "        if b != 0:  # Avoid division by zero\n",
        "            return a / b\n",
        "        else:\n",
        "            return \"Error: Division by zero\"\n",
        "    else:\n",
        "        return \"Invalid value for 'c'\"\n",
        "\n",
        "# Sample test case\n",
        "c = 2\n",
        "a = 15\n",
        "b = 20\n",
        "result = OperationChoices(c, a, b)\n",
        "print(f\"Output: {result}\")\n"
      ],
      "metadata": {
        "colab": {
          "base_uri": "https://localhost:8080/"
        },
        "id": "nSLHAQIl2QCy",
        "outputId": "dafae0b7-f665-4b9e-873c-cd15f1320342"
      },
      "execution_count": 1,
      "outputs": [
        {
          "output_type": "stream",
          "name": "stdout",
          "text": [
            "Output: -5\n"
          ]
        }
      ]
    },
    {
      "cell_type": "markdown",
      "source": [
        "**6. Difference Of Sum\n",
        "Write a function differenceofSum(a,b) which will take two integers as\n",
        "an argument. You’ve to obtain the total of all the integers ranging from\n",
        "1 to n (both inclusive) that are not divisible by b. You should also return\n",
        "the distinction between the sum of the integers which are not divisible\n",
        "by b with the sum of the integers divisible by b?\n",
        "Consider: a and b are greater than 0. i.e a>0 and b>0. And their sum\n",
        "should lies between the integral range.\n",
        "Sample Test Case 1:\n",
        "Input:\n",
        "a = 6 and b = 30\n",
        "Output:\n",
        "285**"
      ],
      "metadata": {
        "id": "P4W2EYLi3FwB"
      }
    },
    {
      "cell_type": "code",
      "source": [
        "def differenceofSum(a, b):\n",
        "    # Initialize the sums\n",
        "    sum_non_divisible = 0\n",
        "    sum_divisible = 0\n",
        "\n",
        "    # Iterate through all integers from 1 to a\n",
        "    for i in range(1, a + 1):\n",
        "        if i % b != 0:\n",
        "            # Add to sum_non_divisible if not divisible by b\n",
        "            sum_non_divisible += i\n",
        "        else:\n",
        "            # Add to sum_divisible if divisible by b\n",
        "            sum_divisible += i\n",
        "\n",
        "    # Calculate the difference\n",
        "    difference = sum_non_divisible - sum_divisible\n",
        "    return difference\n",
        "\n",
        "# Sample test case\n",
        "a = 6\n",
        "b = 30\n",
        "result = differenceofSum(a, b)\n",
        "print(f\"Output: {result}\")\n"
      ],
      "metadata": {
        "colab": {
          "base_uri": "https://localhost:8080/"
        },
        "id": "gYMoxu7536l8",
        "outputId": "7019b3a1-784c-4881-f361-4e957c2d1a40"
      },
      "execution_count": 1,
      "outputs": [
        {
          "output_type": "stream",
          "name": "stdout",
          "text": [
            "Output: 21\n"
          ]
        }
      ]
    },
    {
      "cell_type": "markdown",
      "source": [
        "**7. Anagram Strings\n",
        "Write a function to check whether the given strings are anagrams or\n",
        "not. If the given strings are anagram then return ‘yes’ otherwise return\n",
        "‘no’?\n",
        "Sample Test Case 1:\n",
        "Input:\n",
        "1st: learn\n",
        "2nd: simple\n",
        "Output:\n",
        "no**"
      ],
      "metadata": {
        "id": "SUELC5Oo822W"
      }
    },
    {
      "cell_type": "code",
      "source": [
        "def are_anagrams(str1, str2):\n",
        "    # Convert both strings to lowercase and sort their characters\n",
        "    sorted_str1 = sorted(str1.lower())\n",
        "    sorted_str2 = sorted(str2.lower())\n",
        "\n",
        "    # Compare the sorted strings\n",
        "    if sorted_str1 == sorted_str2:\n",
        "        return 'yes'\n",
        "    else:\n",
        "        return 'no'\n",
        "\n",
        "# Sample Test Case\n",
        "str1 = \"learn\"\n",
        "str2 = \"simple\"\n",
        "print(are_anagrams(str1, str2))  # Output: no"
      ],
      "metadata": {
        "colab": {
          "base_uri": "https://localhost:8080/"
        },
        "id": "mXTKa0DR83Qp",
        "outputId": "5d2bcaed-1954-4ce5-a80a-049d7208cb47"
      },
      "execution_count": 9,
      "outputs": [
        {
          "output_type": "stream",
          "name": "stdout",
          "text": [
            "no\n"
          ]
        }
      ]
    },
    {
      "cell_type": "markdown",
      "source": [
        "**8. Product Small Pair\n",
        "Write a function Productsmallpair(sum, arr) which will accept the two\n",
        "integers sum and arr. These two integers will be used to find the arr(j)\n",
        "and arr(k) where k is not equal to j.arr(j) and arr(k). k != j.arr(j) and\n",
        "arr(k) should be the smallest elements from the array.\n",
        "Rules:\n",
        "If the value of n<2 or empty, then return -1.\n",
        "If these pairs are not found then return the value as 0.\n",
        "You should make sure that all the values are between the range of\n",
        "integers.\n",
        "Sample Test Case 1\n",
        "Input:\n",
        "sum: 9\n",
        "arr: 5 4 2 3 9 1 7\n",
        "Output:\n",
        "2**"
      ],
      "metadata": {
        "id": "6dZcJbq49IqN"
      }
    },
    {
      "cell_type": "code",
      "source": [
        "def Productsmallpair(sum, arr):\n",
        "    if len(arr) < 2:\n",
        "        return -1\n",
        "    arr.sort()\n",
        "    return arr[0] * arr[1] if arr[0] + arr[1] <= sum else 0\n",
        "\n",
        "# Sample Test Case\n",
        "sum_value = 9\n",
        "arr = [5, 4, 2, 3, 9, 1, 7]\n",
        "print(Productsmallpair(sum_value, arr))  # Output: 2"
      ],
      "metadata": {
        "colab": {
          "base_uri": "https://localhost:8080/"
        },
        "id": "oHCj9zD49MPd",
        "outputId": "1ad3b231-bfbc-41ce-a3a5-f0442c9d26a0"
      },
      "execution_count": 10,
      "outputs": [
        {
          "output_type": "stream",
          "name": "stdout",
          "text": [
            "2\n"
          ]
        }
      ]
    }
  ]
}